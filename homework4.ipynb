{
 "cells": [
  {
   "cell_type": "code",
   "execution_count": 1,
   "id": "6a67497e",
   "metadata": {},
   "outputs": [],
   "source": [
    "import matplotlib.pyplot as plt\n",
    "import numpy as np"
   ]
  },
  {
   "cell_type": "code",
   "execution_count": 2,
   "id": "ac843cde",
   "metadata": {},
   "outputs": [],
   "source": [
    "def f1(x):\n",
    "    return((10-x*x) /x)\n",
    "\n",
    "def f2(x):\n",
    "    return ((-1+np.sqrt(1 + 4*3*x*57))/(6*x))\n",
    "    \n",
    "x_ar=np.arange(1,3,0.1)\n",
    "y_ar1=f1(x_ar)\n",
    "y_ar2=f2(x_ar)"
   ]
  },
  {
   "cell_type": "code",
   "execution_count": 3,
   "id": "b459b854",
   "metadata": {},
   "outputs": [
    {
     "data": {
      "image/png": "[encoded data removed]",
      "text/plain": [
       "<Figure size 432x288 with 1 Axes>"
      ]
     },
     "metadata": {
      "needs_background": "light"
     },
     "output_type": "display_data"
    }
   ],
   "source": [
    "plt.plot(x_ar,y_ar1)\n",
    "plt.plot(x_ar,y_ar2)\n",
    "plt.xlabel(\"x1 value\")\n",
    "plt.ylabel(\"x2 value\")\n",
    "plt.legend([\"funct 1\",\"funct 2\"])\n",
    "plt.show()"
   ]
  },
  {
   "cell_type": "code",
   "execution_count": 4,
   "id": "ec1ddd3c",
   "metadata": {},
   "outputs": [
    {
     "name": "stdout",
     "output_type": "stream",
     "text": [
      "root is at x1= 1.5569358178053831 and x2= 4.553682111085702 after  0 iterations\n",
      "current guess for x1= 1.5569358178053831 and for x2= 4.553682111085702\n"
     ]
    }
   ],
   "source": [
    "num1 = 10\n",
    "num2 = 57\n",
    "def f1(x1,x2):\n",
    "    fun1 = x1*x1 + x1*x2 - num1\n",
    "    return (fun1)\n",
    "\n",
    "def f2(x1,x2):\n",
    "    fun2 = x2 + 3*x1*x2 - num2\n",
    "    return (fun2)\n",
    "\n",
    "def f1x1(x1,x2): # df1/dx=2x+y\n",
    "    return(2*x1+x2)\n",
    "\n",
    "def f1x2(x1,x2): #df1/dy=x\n",
    "    return(x1)\n",
    "    \n",
    "def f2x1(x1,x2): #df2/dx=3y**2\n",
    "    return(3*x2*x2)\n",
    "    \n",
    "def f2x2(x1,x2): #df2/dy=6xy\n",
    "    return(6*x1*x2)\n",
    "    \n",
    "def dx1(f1,f2,f1x1,f1x2,f2x1,f2x2,x1,x2): \n",
    "    \n",
    "    a = f1x1(x1,x2) # df1/dx = a\n",
    "    b = f1x2(x1,x2) # df1/dy = b\n",
    "    c = f2x1(x1,x2) # df2/dx = c\n",
    "    d = f2x2(x1,x2) # df2/dy = d\n",
    "    bf2 = b * f2(x1,x2)\n",
    "    df1 = d * f1(x1,x2)\n",
    "    func1 = (bf2-df1)/(a*d - b*c)\n",
    "    return(func1)\n",
    "    \n",
    "def dx2(f1,f2,f1x1,f1x2,f2x1,f2x2,x1,x2):\n",
    "\n",
    "    a = f1x1(x1,x2) # df1/dx = a\n",
    "    b = f1x2(x1,x2) # df1/dy = b\n",
    "    c = f2x1(x1,x2) # df2/dx = c\n",
    "    d = f2x2(x1,x2) # df2/dy = d\n",
    "    af2 = a * f2(x1,x2)\n",
    "    cf1 = c * f1(x1,x2)\n",
    "    func2 = (cf1-af2)/(a*d - b*c)\n",
    "    return(func2)\n",
    "\n",
    "\n",
    "eps=1e-8\n",
    "x1=2\n",
    "x2=3.5\n",
    "N=100\n",
    "for i in range(0,N): \n",
    "    x1=x1+dx1(f1,f2,f1x1,f1x2,f2x1,f2x2,x1,x2)\n",
    "    x2=x2+dx2(f1,f2,f1x1,f1x2,f2x1,f2x2,x1,x2)\n",
    "    if f1(x1,x2)<eps and f2(x1,x2)<eps:\n",
    "        print(\"root is at x1=\",x1, \"and x2=\", x2, \"after \", i , \"iterations\")\n",
    "        break\n",
    "print(\"current guess for x1=\",x1,\"and for x2=\",x2)"
   ]
  },
  {
   "cell_type": "code",
   "execution_count": null,
   "id": "57f1e1e2",
   "metadata": {},
   "outputs": [],
   "source": []
  },
  {
   "cell_type": "code",
   "execution_count": null,
   "id": "5898608d",
   "metadata": {},
   "outputs": [],
   "source": []
  },
  {
   "cell_type": "code",
   "execution_count": null,
   "id": "e7343dd7",
   "metadata": {},
   "outputs": [],
   "source": []
  },
  {
   "cell_type": "code",
   "execution_count": null,
   "id": "e31c379a",
   "metadata": {},
   "outputs": [],
   "source": []
  },
  {
   "cell_type": "code",
   "execution_count": null,
   "id": "34130dc9",
   "metadata": {},
   "outputs": [],
   "source": []
  },
  {
   "cell_type": "code",
   "execution_count": null,
   "id": "b968bcd8",
   "metadata": {},
   "outputs": [],
   "source": []
  },
  {
   "cell_type": "code",
   "execution_count": null,
   "id": "aef5bb7c",
   "metadata": {},
   "outputs": [],
   "source": []
  }
 ],
 "metadata": {
  "kernelspec": {
   "display_name": "Python 3",
   "language": "python",
   "name": "python3"
  },
  "language_info": {
   "codemirror_mode": {
    "name": "ipython",
    "version": 3
   },
   "file_extension": ".py",
   "mimetype": "text/x-python",
   "name": "python",
   "nbconvert_exporter": "python",
   "pygments_lexer": "ipython3",
   "version": "3.8.8"
  }
 },
 "nbformat": 4,
 "nbformat_minor": 5
}
